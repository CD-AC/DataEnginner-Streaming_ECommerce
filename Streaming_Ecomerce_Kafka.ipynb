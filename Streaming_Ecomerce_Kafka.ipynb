{
  "cells": [
    {
      "cell_type": "markdown",
      "metadata": {
        "id": "view-in-github",
        "colab_type": "text"
      },
      "source": [
        "<a href=\"https://colab.research.google.com/github/CD-AC/DataEnginner-Streaming_ECommerce/blob/main/Streaming_Ecomerce_Kafka.ipynb\" target=\"_parent\"><img src=\"https://colab.research.google.com/assets/colab-badge.svg\" alt=\"Open In Colab\"/></a>"
      ]
    },
    {
      "cell_type": "markdown",
      "id": "ca08beaf",
      "metadata": {
        "id": "ca08beaf"
      },
      "source": [
        "# Libraries"
      ]
    },
    {
      "cell_type": "code",
      "execution_count": 1,
      "id": "9597008f",
      "metadata": {
        "colab": {
          "base_uri": "https://localhost:8080/"
        },
        "id": "9597008f",
        "outputId": "37e1b5cd-702c-4e6f-df16-fdb94e95e0ff"
      },
      "outputs": [
        {
          "output_type": "stream",
          "name": "stdout",
          "text": [
            "Collecting kafka-python\n",
            "  Downloading kafka_python-2.0.2-py2.py3-none-any.whl (246 kB)\n",
            "\u001b[2K     \u001b[90m━━━━━━━━━━━━━━━━━━━━━━━━━━━━━━━━━━━━━━━━\u001b[0m \u001b[32m246.5/246.5 kB\u001b[0m \u001b[31m2.0 MB/s\u001b[0m eta \u001b[36m0:00:00\u001b[0m\n",
            "\u001b[?25hInstalling collected packages: kafka-python\n",
            "Successfully installed kafka-python-2.0.2\n",
            "Collecting confluent-kafka\n",
            "  Downloading confluent_kafka-2.3.0-cp310-cp310-manylinux_2_17_x86_64.manylinux2014_x86_64.whl (4.0 MB)\n",
            "\u001b[2K     \u001b[90m━━━━━━━━━━━━━━━━━━━━━━━━━━━━━━━━━━━━━━━━\u001b[0m \u001b[32m4.0/4.0 MB\u001b[0m \u001b[31m10.7 MB/s\u001b[0m eta \u001b[36m0:00:00\u001b[0m\n",
            "\u001b[?25hInstalling collected packages: confluent-kafka\n",
            "Successfully installed confluent-kafka-2.3.0\n"
          ]
        }
      ],
      "source": [
        "!pip install kafka-python\n",
        "!pip install confluent-kafka"
      ]
    },
    {
      "cell_type": "code",
      "source": [
        "import pandas as pd\n",
        "import json\n",
        "import random\n",
        "import time\n",
        "import hashlib\n",
        "\n",
        "\n",
        "from kafka import KafkaProducer\n",
        "from confluent_kafka import Producer\n",
        "import socket\n",
        "import json\n",
        "import os\n",
        "\n",
        "from kafka_auth import confi"
      ],
      "metadata": {
        "id": "ImwxGpqdTF-m"
      },
      "id": "ImwxGpqdTF-m",
      "execution_count": 2,
      "outputs": []
    },
    {
      "cell_type": "markdown",
      "id": "cd48b5e5",
      "metadata": {
        "id": "cd48b5e5"
      },
      "source": [
        "# Follow me\n",
        "\n",
        "* 👉 [**Medium Profile**](https://datexland.medium.com/)\n",
        "\n",
        "\n",
        "\n",
        "## hint\n",
        "\n",
        "* 👉 [**Sales simulation at Rappi**](https://www.kaggle.com/datasets/alexbonella/sales-simulation-at-rappi)\n"
      ]
    },
    {
      "cell_type": "markdown",
      "id": "af4e792f",
      "metadata": {
        "id": "af4e792f"
      },
      "source": [
        "# Purchase Simulation"
      ]
    },
    {
      "cell_type": "code",
      "execution_count": 3,
      "id": "cb166194",
      "metadata": {
        "id": "cb166194"
      },
      "outputs": [],
      "source": [
        "cities = ['Bogotá','Medellín','Cali','Bucaramanga','Barranquilla']\n",
        "payment_online = ['Credit_card','PSE']\n",
        "payment_store = ['Cash','Nequi','Daviplata','Credit_card']\n",
        "source = ['Facebook','Instagram','Organic','Twitter','Influencer_1','Influencer_2','Influencer_3','Influencer_4']\n",
        "status_purchase = ['COMPLETED','FAILED_CHECKOUT','FAILED_API_RESPONSE','INSUFICCIENT_FUNDS','COMPLETED','COMPLETED','COMPLETED','COMPLETED','COMPLETED','COMPLETED','FAILED_API_RESPONSE','INSUFICCIENT_FUNDS','USER_ERROR','FRAUD','COMPLETED','COMPLETED','COMPLETED']"
      ]
    },
    {
      "cell_type": "code",
      "execution_count": 4,
      "id": "01716849",
      "metadata": {
        "id": "01716849"
      },
      "outputs": [],
      "source": [
        "bog_coords = [(4.651600960108946, -74.12628850377475),(4.661984763443271, -74.13466548843223),(4.647569693587232, -74.10186525959672)]\n",
        "buc_coords = [(7.099917472863198, -73.10730617492302),(7.07243688331635, -73.10525936227518)]\n",
        "cali_coords = [(3.4287786094866717, -76.53749228193497),(3.4148803158142966, -76.54041613631288),(3.4164091379805432, -76.54751692551635)]\n",
        "bar_coords = [(11.014167139030025, -74.82747678131524),(11.004041676077495, -74.83545204769058),(10.990580146449894, -74.78876005521157)]\n",
        "mede_coords = [(6.163315879042265, -75.6052691935286),(6.17784573272914, -75.59141059178306),(6.198053256721469, -75.5733524126965)]"
      ]
    },
    {
      "cell_type": "code",
      "execution_count": 5,
      "id": "91ffb59f",
      "metadata": {
        "id": "91ffb59f"
      },
      "outputs": [],
      "source": [
        "def get_pay_method(source,status_purchase,payment_online,payment_store):\n",
        "\n",
        "    if source == 'Organic':\n",
        "\n",
        "        payment = random.choice(payment_store)\n",
        "        status = 'COMPLETED'\n",
        "        order_type = 'STORE'\n",
        "\n",
        "    elif source != 'Organic':\n",
        "\n",
        "        payment = random.choice(payment_online)\n",
        "        status = random.choice(status_purchase)\n",
        "        order_type = 'ONLINE'\n",
        "\n",
        "    return payment,status,order_type\n",
        "\n",
        "\n",
        "\n",
        "def get_coords(city):\n",
        "\n",
        "    if city == 'Bogotá':\n",
        "        coords = random.choice(bog_coords)\n",
        "    elif city == 'Bucaramanga':\n",
        "        coords = random.choice(buc_coords)\n",
        "    elif city == 'Cali':\n",
        "        coords = random.choice(cali_coords)\n",
        "    elif city == 'Barranquilla':\n",
        "        coords = random.choice(bar_coords)\n",
        "    elif city == 'Medellín':\n",
        "        coords = random.choice(mede_coords)\n",
        "\n",
        "    return coords"
      ]
    },
    {
      "cell_type": "code",
      "execution_count": 6,
      "id": "26b549ba",
      "metadata": {
        "colab": {
          "base_uri": "https://localhost:8080/"
        },
        "id": "26b549ba",
        "outputId": "bb175f06-1128-4837-9e3e-33a6129fe24f"
      },
      "outputs": [
        {
          "output_type": "stream",
          "name": "stdout",
          "text": [
            "('Nequi', 'COMPLETED', 'STORE')\n"
          ]
        }
      ],
      "source": [
        "pay = get_pay_method('Organic',status_purchase,payment_online,payment_store)\n",
        "print(pay)"
      ]
    },
    {
      "cell_type": "code",
      "execution_count": 7,
      "id": "703f4b06",
      "metadata": {
        "colab": {
          "base_uri": "https://localhost:8080/",
          "height": 36
        },
        "id": "703f4b06",
        "outputId": "5d35eecf-e05b-4859-834a-d6e19401f343"
      },
      "outputs": [
        {
          "output_type": "execute_result",
          "data": {
            "text/plain": [
              "'Nequi'"
            ],
            "application/vnd.google.colaboratory.intrinsic+json": {
              "type": "string"
            }
          },
          "metadata": {},
          "execution_count": 7
        }
      ],
      "source": [
        "pay[0]"
      ]
    },
    {
      "cell_type": "code",
      "execution_count": 8,
      "id": "027b9707",
      "metadata": {
        "colab": {
          "base_uri": "https://localhost:8080/",
          "height": 36
        },
        "id": "027b9707",
        "outputId": "4f84839c-a5b8-45d6-fce1-8606d790eb7b"
      },
      "outputs": [
        {
          "output_type": "execute_result",
          "data": {
            "text/plain": [
              "'COMPLETED'"
            ],
            "application/vnd.google.colaboratory.intrinsic+json": {
              "type": "string"
            }
          },
          "metadata": {},
          "execution_count": 8
        }
      ],
      "source": [
        "pay[1]"
      ]
    },
    {
      "cell_type": "code",
      "execution_count": 9,
      "id": "79953b60",
      "metadata": {
        "colab": {
          "base_uri": "https://localhost:8080/",
          "height": 36
        },
        "id": "79953b60",
        "outputId": "994a5502-931d-4efa-c1d1-7637744d07f2"
      },
      "outputs": [
        {
          "output_type": "execute_result",
          "data": {
            "text/plain": [
              "'Medellín'"
            ],
            "application/vnd.google.colaboratory.intrinsic+json": {
              "type": "string"
            }
          },
          "metadata": {},
          "execution_count": 9
        }
      ],
      "source": [
        "random.choice(cities)"
      ]
    },
    {
      "cell_type": "code",
      "execution_count": 10,
      "id": "e314fe89",
      "metadata": {
        "colab": {
          "base_uri": "https://localhost:8080/"
        },
        "id": "e314fe89",
        "outputId": "e4a1e7a3-d77d-424e-ad8b-99359e387eca"
      },
      "outputs": [
        {
          "output_type": "stream",
          "name": "stdout",
          "text": [
            " Ciudad  >> Bogotá\n",
            " Coordenadas >> (4.661984763443271, -74.13466548843223)\n"
          ]
        }
      ],
      "source": [
        "hola = random.choice(cities)\n",
        "print(f' Ciudad  >> {hola}')\n",
        "print(f' Coordenadas >> {get_coords(hola)}')"
      ]
    },
    {
      "cell_type": "code",
      "execution_count": 11,
      "id": "ad79b380",
      "metadata": {
        "id": "ad79b380"
      },
      "outputs": [],
      "source": [
        "df = pd.read_excel('ecomerce_datexland.xlsx')"
      ]
    },
    {
      "cell_type": "code",
      "execution_count": 12,
      "id": "b762bd20",
      "metadata": {
        "colab": {
          "base_uri": "https://localhost:8080/",
          "height": 519
        },
        "id": "b762bd20",
        "outputId": "79c49efc-eb62-432a-bc30-e21f6dcbae6b"
      },
      "outputs": [
        {
          "output_type": "execute_result",
          "data": {
            "text/plain": [
              "         PRODUCT_NAME    PRICING  COMISION     BRAND     CATEGORY\n",
              "0    Laptop_Brand1_4GB   1350000      0.20    Brand1      LAPTOPS\n",
              "1    Laptop_Brand1_8GB   2550000      0.25    Brand1      LAPTOPS\n",
              "2   Laptop_Brand1_16GB   3500000      0.30    Brand1      LAPTOPS\n",
              "3   Laptop_Brand1_32GB   4800000      0.35    Brand1       GAMING\n",
              "4    Laptop_Brand2_4GB   1150000      0.15    Brand2      LAPTOPS\n",
              "5    Laptop_Brand2_8GB   1850000      0.18    Brand2      LAPTOPS\n",
              "6   Laptop_Brand2_16GB   3890000      0.20    Brand2      LAPTOPS\n",
              "7   Laptop_Brand2_32GB   6990000      0.25    Brand2       GAMING\n",
              "8    Laptop_Brand3_4GB   1850000      0.20    Brand3      LAPTOPS\n",
              "9    Laptop_Brand3_8GB   3199000      0.28    Brand3      LAPTOPS\n",
              "10  Laptop_Brand3_16GB   4659000      0.30    Brand3      LAPTOPS\n",
              "11  Laptop_Brand3_32GB  18999000      0.40    Brand3       GAMING\n",
              "12        Console_Xbox   1599000      0.15     X_Box  VIDEO GAMES\n",
              "13         Console_PS5   3560000      0.30       PS5  VIDEO GAMES\n",
              "14      Console_Switch   2249000      0.20  Nintendo  VIDEO GAMES"
            ],
            "text/html": [
              "\n",
              "  <div id=\"df-f2820f17-955f-4d17-a9de-71749d9148e7\" class=\"colab-df-container\">\n",
              "    <div>\n",
              "<style scoped>\n",
              "    .dataframe tbody tr th:only-of-type {\n",
              "        vertical-align: middle;\n",
              "    }\n",
              "\n",
              "    .dataframe tbody tr th {\n",
              "        vertical-align: top;\n",
              "    }\n",
              "\n",
              "    .dataframe thead th {\n",
              "        text-align: right;\n",
              "    }\n",
              "</style>\n",
              "<table border=\"1\" class=\"dataframe\">\n",
              "  <thead>\n",
              "    <tr style=\"text-align: right;\">\n",
              "      <th></th>\n",
              "      <th>PRODUCT_NAME</th>\n",
              "      <th>PRICING</th>\n",
              "      <th>COMISION</th>\n",
              "      <th>BRAND</th>\n",
              "      <th>CATEGORY</th>\n",
              "    </tr>\n",
              "  </thead>\n",
              "  <tbody>\n",
              "    <tr>\n",
              "      <th>0</th>\n",
              "      <td>Laptop_Brand1_4GB</td>\n",
              "      <td>1350000</td>\n",
              "      <td>0.20</td>\n",
              "      <td>Brand1</td>\n",
              "      <td>LAPTOPS</td>\n",
              "    </tr>\n",
              "    <tr>\n",
              "      <th>1</th>\n",
              "      <td>Laptop_Brand1_8GB</td>\n",
              "      <td>2550000</td>\n",
              "      <td>0.25</td>\n",
              "      <td>Brand1</td>\n",
              "      <td>LAPTOPS</td>\n",
              "    </tr>\n",
              "    <tr>\n",
              "      <th>2</th>\n",
              "      <td>Laptop_Brand1_16GB</td>\n",
              "      <td>3500000</td>\n",
              "      <td>0.30</td>\n",
              "      <td>Brand1</td>\n",
              "      <td>LAPTOPS</td>\n",
              "    </tr>\n",
              "    <tr>\n",
              "      <th>3</th>\n",
              "      <td>Laptop_Brand1_32GB</td>\n",
              "      <td>4800000</td>\n",
              "      <td>0.35</td>\n",
              "      <td>Brand1</td>\n",
              "      <td>GAMING</td>\n",
              "    </tr>\n",
              "    <tr>\n",
              "      <th>4</th>\n",
              "      <td>Laptop_Brand2_4GB</td>\n",
              "      <td>1150000</td>\n",
              "      <td>0.15</td>\n",
              "      <td>Brand2</td>\n",
              "      <td>LAPTOPS</td>\n",
              "    </tr>\n",
              "    <tr>\n",
              "      <th>5</th>\n",
              "      <td>Laptop_Brand2_8GB</td>\n",
              "      <td>1850000</td>\n",
              "      <td>0.18</td>\n",
              "      <td>Brand2</td>\n",
              "      <td>LAPTOPS</td>\n",
              "    </tr>\n",
              "    <tr>\n",
              "      <th>6</th>\n",
              "      <td>Laptop_Brand2_16GB</td>\n",
              "      <td>3890000</td>\n",
              "      <td>0.20</td>\n",
              "      <td>Brand2</td>\n",
              "      <td>LAPTOPS</td>\n",
              "    </tr>\n",
              "    <tr>\n",
              "      <th>7</th>\n",
              "      <td>Laptop_Brand2_32GB</td>\n",
              "      <td>6990000</td>\n",
              "      <td>0.25</td>\n",
              "      <td>Brand2</td>\n",
              "      <td>GAMING</td>\n",
              "    </tr>\n",
              "    <tr>\n",
              "      <th>8</th>\n",
              "      <td>Laptop_Brand3_4GB</td>\n",
              "      <td>1850000</td>\n",
              "      <td>0.20</td>\n",
              "      <td>Brand3</td>\n",
              "      <td>LAPTOPS</td>\n",
              "    </tr>\n",
              "    <tr>\n",
              "      <th>9</th>\n",
              "      <td>Laptop_Brand3_8GB</td>\n",
              "      <td>3199000</td>\n",
              "      <td>0.28</td>\n",
              "      <td>Brand3</td>\n",
              "      <td>LAPTOPS</td>\n",
              "    </tr>\n",
              "    <tr>\n",
              "      <th>10</th>\n",
              "      <td>Laptop_Brand3_16GB</td>\n",
              "      <td>4659000</td>\n",
              "      <td>0.30</td>\n",
              "      <td>Brand3</td>\n",
              "      <td>LAPTOPS</td>\n",
              "    </tr>\n",
              "    <tr>\n",
              "      <th>11</th>\n",
              "      <td>Laptop_Brand3_32GB</td>\n",
              "      <td>18999000</td>\n",
              "      <td>0.40</td>\n",
              "      <td>Brand3</td>\n",
              "      <td>GAMING</td>\n",
              "    </tr>\n",
              "    <tr>\n",
              "      <th>12</th>\n",
              "      <td>Console_Xbox</td>\n",
              "      <td>1599000</td>\n",
              "      <td>0.15</td>\n",
              "      <td>X_Box</td>\n",
              "      <td>VIDEO GAMES</td>\n",
              "    </tr>\n",
              "    <tr>\n",
              "      <th>13</th>\n",
              "      <td>Console_PS5</td>\n",
              "      <td>3560000</td>\n",
              "      <td>0.30</td>\n",
              "      <td>PS5</td>\n",
              "      <td>VIDEO GAMES</td>\n",
              "    </tr>\n",
              "    <tr>\n",
              "      <th>14</th>\n",
              "      <td>Console_Switch</td>\n",
              "      <td>2249000</td>\n",
              "      <td>0.20</td>\n",
              "      <td>Nintendo</td>\n",
              "      <td>VIDEO GAMES</td>\n",
              "    </tr>\n",
              "  </tbody>\n",
              "</table>\n",
              "</div>\n",
              "    <div class=\"colab-df-buttons\">\n",
              "\n",
              "  <div class=\"colab-df-container\">\n",
              "    <button class=\"colab-df-convert\" onclick=\"convertToInteractive('df-f2820f17-955f-4d17-a9de-71749d9148e7')\"\n",
              "            title=\"Convert this dataframe to an interactive table.\"\n",
              "            style=\"display:none;\">\n",
              "\n",
              "  <svg xmlns=\"http://www.w3.org/2000/svg\" height=\"24px\" viewBox=\"0 -960 960 960\">\n",
              "    <path d=\"M120-120v-720h720v720H120Zm60-500h600v-160H180v160Zm220 220h160v-160H400v160Zm0 220h160v-160H400v160ZM180-400h160v-160H180v160Zm440 0h160v-160H620v160ZM180-180h160v-160H180v160Zm440 0h160v-160H620v160Z\"/>\n",
              "  </svg>\n",
              "    </button>\n",
              "\n",
              "  <style>\n",
              "    .colab-df-container {\n",
              "      display:flex;\n",
              "      gap: 12px;\n",
              "    }\n",
              "\n",
              "    .colab-df-convert {\n",
              "      background-color: #E8F0FE;\n",
              "      border: none;\n",
              "      border-radius: 50%;\n",
              "      cursor: pointer;\n",
              "      display: none;\n",
              "      fill: #1967D2;\n",
              "      height: 32px;\n",
              "      padding: 0 0 0 0;\n",
              "      width: 32px;\n",
              "    }\n",
              "\n",
              "    .colab-df-convert:hover {\n",
              "      background-color: #E2EBFA;\n",
              "      box-shadow: 0px 1px 2px rgba(60, 64, 67, 0.3), 0px 1px 3px 1px rgba(60, 64, 67, 0.15);\n",
              "      fill: #174EA6;\n",
              "    }\n",
              "\n",
              "    .colab-df-buttons div {\n",
              "      margin-bottom: 4px;\n",
              "    }\n",
              "\n",
              "    [theme=dark] .colab-df-convert {\n",
              "      background-color: #3B4455;\n",
              "      fill: #D2E3FC;\n",
              "    }\n",
              "\n",
              "    [theme=dark] .colab-df-convert:hover {\n",
              "      background-color: #434B5C;\n",
              "      box-shadow: 0px 1px 3px 1px rgba(0, 0, 0, 0.15);\n",
              "      filter: drop-shadow(0px 1px 2px rgba(0, 0, 0, 0.3));\n",
              "      fill: #FFFFFF;\n",
              "    }\n",
              "  </style>\n",
              "\n",
              "    <script>\n",
              "      const buttonEl =\n",
              "        document.querySelector('#df-f2820f17-955f-4d17-a9de-71749d9148e7 button.colab-df-convert');\n",
              "      buttonEl.style.display =\n",
              "        google.colab.kernel.accessAllowed ? 'block' : 'none';\n",
              "\n",
              "      async function convertToInteractive(key) {\n",
              "        const element = document.querySelector('#df-f2820f17-955f-4d17-a9de-71749d9148e7');\n",
              "        const dataTable =\n",
              "          await google.colab.kernel.invokeFunction('convertToInteractive',\n",
              "                                                    [key], {});\n",
              "        if (!dataTable) return;\n",
              "\n",
              "        const docLinkHtml = 'Like what you see? Visit the ' +\n",
              "          '<a target=\"_blank\" href=https://colab.research.google.com/notebooks/data_table.ipynb>data table notebook</a>'\n",
              "          + ' to learn more about interactive tables.';\n",
              "        element.innerHTML = '';\n",
              "        dataTable['output_type'] = 'display_data';\n",
              "        await google.colab.output.renderOutput(dataTable, element);\n",
              "        const docLink = document.createElement('div');\n",
              "        docLink.innerHTML = docLinkHtml;\n",
              "        element.appendChild(docLink);\n",
              "      }\n",
              "    </script>\n",
              "  </div>\n",
              "\n",
              "\n",
              "<div id=\"df-5ff1ca45-e775-4028-8781-d38d7d871b3e\">\n",
              "  <button class=\"colab-df-quickchart\" onclick=\"quickchart('df-5ff1ca45-e775-4028-8781-d38d7d871b3e')\"\n",
              "            title=\"Suggest charts\"\n",
              "            style=\"display:none;\">\n",
              "\n",
              "<svg xmlns=\"http://www.w3.org/2000/svg\" height=\"24px\"viewBox=\"0 0 24 24\"\n",
              "     width=\"24px\">\n",
              "    <g>\n",
              "        <path d=\"M19 3H5c-1.1 0-2 .9-2 2v14c0 1.1.9 2 2 2h14c1.1 0 2-.9 2-2V5c0-1.1-.9-2-2-2zM9 17H7v-7h2v7zm4 0h-2V7h2v10zm4 0h-2v-4h2v4z\"/>\n",
              "    </g>\n",
              "</svg>\n",
              "  </button>\n",
              "\n",
              "<style>\n",
              "  .colab-df-quickchart {\n",
              "      --bg-color: #E8F0FE;\n",
              "      --fill-color: #1967D2;\n",
              "      --hover-bg-color: #E2EBFA;\n",
              "      --hover-fill-color: #174EA6;\n",
              "      --disabled-fill-color: #AAA;\n",
              "      --disabled-bg-color: #DDD;\n",
              "  }\n",
              "\n",
              "  [theme=dark] .colab-df-quickchart {\n",
              "      --bg-color: #3B4455;\n",
              "      --fill-color: #D2E3FC;\n",
              "      --hover-bg-color: #434B5C;\n",
              "      --hover-fill-color: #FFFFFF;\n",
              "      --disabled-bg-color: #3B4455;\n",
              "      --disabled-fill-color: #666;\n",
              "  }\n",
              "\n",
              "  .colab-df-quickchart {\n",
              "    background-color: var(--bg-color);\n",
              "    border: none;\n",
              "    border-radius: 50%;\n",
              "    cursor: pointer;\n",
              "    display: none;\n",
              "    fill: var(--fill-color);\n",
              "    height: 32px;\n",
              "    padding: 0;\n",
              "    width: 32px;\n",
              "  }\n",
              "\n",
              "  .colab-df-quickchart:hover {\n",
              "    background-color: var(--hover-bg-color);\n",
              "    box-shadow: 0 1px 2px rgba(60, 64, 67, 0.3), 0 1px 3px 1px rgba(60, 64, 67, 0.15);\n",
              "    fill: var(--button-hover-fill-color);\n",
              "  }\n",
              "\n",
              "  .colab-df-quickchart-complete:disabled,\n",
              "  .colab-df-quickchart-complete:disabled:hover {\n",
              "    background-color: var(--disabled-bg-color);\n",
              "    fill: var(--disabled-fill-color);\n",
              "    box-shadow: none;\n",
              "  }\n",
              "\n",
              "  .colab-df-spinner {\n",
              "    border: 2px solid var(--fill-color);\n",
              "    border-color: transparent;\n",
              "    border-bottom-color: var(--fill-color);\n",
              "    animation:\n",
              "      spin 1s steps(1) infinite;\n",
              "  }\n",
              "\n",
              "  @keyframes spin {\n",
              "    0% {\n",
              "      border-color: transparent;\n",
              "      border-bottom-color: var(--fill-color);\n",
              "      border-left-color: var(--fill-color);\n",
              "    }\n",
              "    20% {\n",
              "      border-color: transparent;\n",
              "      border-left-color: var(--fill-color);\n",
              "      border-top-color: var(--fill-color);\n",
              "    }\n",
              "    30% {\n",
              "      border-color: transparent;\n",
              "      border-left-color: var(--fill-color);\n",
              "      border-top-color: var(--fill-color);\n",
              "      border-right-color: var(--fill-color);\n",
              "    }\n",
              "    40% {\n",
              "      border-color: transparent;\n",
              "      border-right-color: var(--fill-color);\n",
              "      border-top-color: var(--fill-color);\n",
              "    }\n",
              "    60% {\n",
              "      border-color: transparent;\n",
              "      border-right-color: var(--fill-color);\n",
              "    }\n",
              "    80% {\n",
              "      border-color: transparent;\n",
              "      border-right-color: var(--fill-color);\n",
              "      border-bottom-color: var(--fill-color);\n",
              "    }\n",
              "    90% {\n",
              "      border-color: transparent;\n",
              "      border-bottom-color: var(--fill-color);\n",
              "    }\n",
              "  }\n",
              "</style>\n",
              "\n",
              "  <script>\n",
              "    async function quickchart(key) {\n",
              "      const quickchartButtonEl =\n",
              "        document.querySelector('#' + key + ' button');\n",
              "      quickchartButtonEl.disabled = true;  // To prevent multiple clicks.\n",
              "      quickchartButtonEl.classList.add('colab-df-spinner');\n",
              "      try {\n",
              "        const charts = await google.colab.kernel.invokeFunction(\n",
              "            'suggestCharts', [key], {});\n",
              "      } catch (error) {\n",
              "        console.error('Error during call to suggestCharts:', error);\n",
              "      }\n",
              "      quickchartButtonEl.classList.remove('colab-df-spinner');\n",
              "      quickchartButtonEl.classList.add('colab-df-quickchart-complete');\n",
              "    }\n",
              "    (() => {\n",
              "      let quickchartButtonEl =\n",
              "        document.querySelector('#df-5ff1ca45-e775-4028-8781-d38d7d871b3e button');\n",
              "      quickchartButtonEl.style.display =\n",
              "        google.colab.kernel.accessAllowed ? 'block' : 'none';\n",
              "    })();\n",
              "  </script>\n",
              "</div>\n",
              "    </div>\n",
              "  </div>\n"
            ],
            "application/vnd.google.colaboratory.intrinsic+json": {
              "type": "dataframe",
              "variable_name": "df",
              "summary": "{\n  \"name\": \"df\",\n  \"rows\": 15,\n  \"fields\": [\n    {\n      \"column\": \"PRODUCT_NAME \",\n      \"properties\": {\n        \"dtype\": \"string\",\n        \"num_unique_values\": 15,\n        \"samples\": [\n          \"Laptop_Brand3_8GB\",\n          \"Laptop_Brand3_32GB\",\n          \"Laptop_Brand1_4GB\"\n        ],\n        \"semantic_type\": \"\",\n        \"description\": \"\"\n      }\n    },\n    {\n      \"column\": \"PRICING\",\n      \"properties\": {\n        \"dtype\": \"number\",\n        \"std\": 4400355,\n        \"min\": 1150000,\n        \"max\": 18999000,\n        \"num_unique_values\": 14,\n        \"samples\": [\n          4659000,\n          1599000,\n          1350000\n        ],\n        \"semantic_type\": \"\",\n        \"description\": \"\"\n      }\n    },\n    {\n      \"column\": \"COMISION\",\n      \"properties\": {\n        \"dtype\": \"number\",\n        \"std\": 0.07353003921300917,\n        \"min\": 0.15,\n        \"max\": 0.4,\n        \"num_unique_values\": 8,\n        \"samples\": [\n          0.25,\n          0.18,\n          0.2\n        ],\n        \"semantic_type\": \"\",\n        \"description\": \"\"\n      }\n    },\n    {\n      \"column\": \"BRAND\",\n      \"properties\": {\n        \"dtype\": \"category\",\n        \"num_unique_values\": 6,\n        \"samples\": [\n          \"Brand1\",\n          \"Brand2\",\n          \"Nintendo\"\n        ],\n        \"semantic_type\": \"\",\n        \"description\": \"\"\n      }\n    },\n    {\n      \"column\": \"CATEGORY\",\n      \"properties\": {\n        \"dtype\": \"category\",\n        \"num_unique_values\": 3,\n        \"samples\": [\n          \"LAPTOPS\",\n          \"GAMING\",\n          \"VIDEO GAMES\"\n        ],\n        \"semantic_type\": \"\",\n        \"description\": \"\"\n      }\n    }\n  ]\n}"
            }
          },
          "metadata": {},
          "execution_count": 12
        }
      ],
      "source": [
        "df"
      ]
    },
    {
      "cell_type": "markdown",
      "id": "01a4cabd",
      "metadata": {
        "id": "01a4cabd"
      },
      "source": [
        "# To Do's\n",
        "\n",
        "*  Deploy a kafka Cluster on Confluent Cloud\n",
        "* Create a Kafka topic\n",
        "* Test Python simulation Script"
      ]
    },
    {
      "cell_type": "markdown",
      "id": "9415812d",
      "metadata": {
        "id": "9415812d"
      },
      "source": [
        "# Config Kafka Cluster"
      ]
    },
    {
      "cell_type": "code",
      "source": [
        "confi"
      ],
      "metadata": {
        "colab": {
          "base_uri": "https://localhost:8080/"
        },
        "id": "KM4ayk0hSYIo",
        "outputId": "cda29bf4-748f-414d-a643-95b1b3b81961"
      },
      "id": "KM4ayk0hSYIo",
      "execution_count": 14,
      "outputs": [
        {
          "output_type": "execute_result",
          "data": {
            "text/plain": [
              "{'bootstrap.servers': 'pkc-p11xm.us-east-1.aws.confluent.cloud:9092',\n",
              " 'security.protocol': 'SASL_SSL',\n",
              " 'sasl.mechanisms': 'PLAIN',\n",
              " 'sasl.username': '5UL6HXDA76UMV2XO',\n",
              " 'sasl.password': 'moHEUJWiATAvKwrIB1PJfLMe9KcCVFRuFRAPc/guH9MC+199EJJnfAkLIondSJDA'}"
            ]
          },
          "metadata": {},
          "execution_count": 14
        }
      ]
    },
    {
      "cell_type": "code",
      "execution_count": 16,
      "id": "8f230c99",
      "metadata": {
        "id": "8f230c99"
      },
      "outputs": [],
      "source": [
        "producer = Producer(confi)"
      ]
    },
    {
      "cell_type": "markdown",
      "id": "102642fc",
      "metadata": {
        "id": "102642fc"
      },
      "source": [
        "# Send Message To Kafka Topic"
      ]
    },
    {
      "cell_type": "code",
      "execution_count": 17,
      "id": "7379f6de",
      "metadata": {
        "colab": {
          "base_uri": "https://localhost:8080/",
          "height": 906
        },
        "id": "7379f6de",
        "outputId": "3c38056d-adde-4dc4-e6f5-c262f8924b95"
      },
      "outputs": [
        {
          "output_type": "stream",
          "name": "stdout",
          "text": [
            "Producing record: Purchase_simulator\tb'{\"purchase_ID\": \"ea0f5bbe7b\", \"Product_name\": \"Laptop_Brand3_8GB\", \"Pricing\": \"3199000\", \"Comision\": \"0.28\", \"Revenue\": \"895720.0\", \"Payment_Mehtod\": \"Nequi\", \"Status\": \"COMPLETED\", \"Order_Type\": \"STORE\", \"City\": \"Cali\", \"Location\": \"(3.4164091379805432, -76.54751692551635)\", \"Latitud\": \"3.4148803158142966\", \"Longitud\": \"-76.53749228193497\", \"Source\": \"Organic\", \"Brand\": \"Brand3\", \"Category\": \"LAPTOPS\", \"Created_at\": \"2024-03-27 23:47:06\"}'\n",
            "Producing record: Purchase_simulator\tb'{\"purchase_ID\": \"71ca926031\", \"Product_name\": \"Console_PS5\", \"Pricing\": \"3560000\", \"Comision\": \"0.3\", \"Revenue\": \"1068000.0\", \"Payment_Mehtod\": \"Credit_card\", \"Status\": \"FAILED_CHECKOUT\", \"Order_Type\": \"ONLINE\", \"City\": \"Bucaramanga\", \"Location\": \"(7.099917472863198, -73.10730617492302)\", \"Latitud\": \"7.099917472863198\", \"Longitud\": \"-73.10730617492302\", \"Source\": \"Influencer_1\", \"Brand\": \"PS5\", \"Category\": \"VIDEO GAMES\", \"Created_at\": \"2024-03-27 23:47:07\"}'\n",
            "Producing record: Purchase_simulator\tb'{\"purchase_ID\": \"8efb86fed4\", \"Product_name\": \"Laptop_Brand1_8GB\", \"Pricing\": \"2550000\", \"Comision\": \"0.25\", \"Revenue\": \"637500.0\", \"Payment_Mehtod\": \"PSE\", \"Status\": \"COMPLETED\", \"Order_Type\": \"ONLINE\", \"City\": \"Cali\", \"Location\": \"(3.4148803158142966, -76.54041613631288)\", \"Latitud\": \"3.4164091379805432\", \"Longitud\": \"-76.53749228193497\", \"Source\": \"Influencer_4\", \"Brand\": \"Brand1\", \"Category\": \"LAPTOPS\", \"Created_at\": \"2024-03-27 23:47:09\"}'\n",
            "Producing record: Purchase_simulator\tb'{\"purchase_ID\": \"19c5e721fa\", \"Product_name\": \"Laptop_Brand1_4GB\", \"Pricing\": \"1350000\", \"Comision\": \"0.2\", \"Revenue\": \"270000.0\", \"Payment_Mehtod\": \"Credit_card\", \"Status\": \"COMPLETED\", \"Order_Type\": \"ONLINE\", \"City\": \"Medell\\\\u00edn\", \"Location\": \"(6.17784573272914, -75.59141059178306)\", \"Latitud\": \"6.17784573272914\", \"Longitud\": \"-75.6052691935286\", \"Source\": \"Facebook\", \"Brand\": \"Brand1\", \"Category\": \"LAPTOPS\", \"Created_at\": \"2024-03-27 23:47:10\"}'\n",
            "Producing record: Purchase_simulator\tb'{\"purchase_ID\": \"ddaeae845d\", \"Product_name\": \"Laptop_Brand2_8GB\", \"Pricing\": \"1850000\", \"Comision\": \"0.18\", \"Revenue\": \"333000.0\", \"Payment_Mehtod\": \"Credit_card\", \"Status\": \"COMPLETED\", \"Order_Type\": \"ONLINE\", \"City\": \"Medell\\\\u00edn\", \"Location\": \"(6.163315879042265, -75.6052691935286)\", \"Latitud\": \"6.17784573272914\", \"Longitud\": \"-75.6052691935286\", \"Source\": \"Influencer_1\", \"Brand\": \"Brand2\", \"Category\": \"LAPTOPS\", \"Created_at\": \"2024-03-27 23:47:11\"}'\n",
            "Producing record: Purchase_simulator\tb'{\"purchase_ID\": \"493f440a61\", \"Product_name\": \"Laptop_Brand3_32GB\", \"Pricing\": \"18999000\", \"Comision\": \"0.4\", \"Revenue\": \"7599600.0\", \"Payment_Mehtod\": \"PSE\", \"Status\": \"COMPLETED\", \"Order_Type\": \"ONLINE\", \"City\": \"Cali\", \"Location\": \"(3.4287786094866717, -76.53749228193497)\", \"Latitud\": \"3.4148803158142966\", \"Longitud\": \"-76.54751692551635\", \"Source\": \"Twitter\", \"Brand\": \"Brand3\", \"Category\": \"GAMING\", \"Created_at\": \"2024-03-27 23:47:13\"}'\n",
            "Producing record: Purchase_simulator\tb'{\"purchase_ID\": \"d7ef01d933\", \"Product_name\": \"Console_Switch\", \"Pricing\": \"2249000\", \"Comision\": \"0.2\", \"Revenue\": \"449800.0\", \"Payment_Mehtod\": \"Credit_card\", \"Status\": \"COMPLETED\", \"Order_Type\": \"ONLINE\", \"City\": \"Medell\\\\u00edn\", \"Location\": \"(6.17784573272914, -75.59141059178306)\", \"Latitud\": \"6.17784573272914\", \"Longitud\": \"-75.5733524126965\", \"Source\": \"Influencer_4\", \"Brand\": \"Nintendo\", \"Category\": \"VIDEO GAMES\", \"Created_at\": \"2024-03-27 23:47:14\"}'\n",
            "Producing record: Purchase_simulator\tb'{\"purchase_ID\": \"051056e120\", \"Product_name\": \"Laptop_Brand1_4GB\", \"Pricing\": \"1350000\", \"Comision\": \"0.2\", \"Revenue\": \"270000.0\", \"Payment_Mehtod\": \"Credit_card\", \"Status\": \"COMPLETED\", \"Order_Type\": \"STORE\", \"City\": \"Bucaramanga\", \"Location\": \"(7.07243688331635, -73.10525936227518)\", \"Latitud\": \"7.099917472863198\", \"Longitud\": \"-73.10525936227518\", \"Source\": \"Organic\", \"Brand\": \"Brand1\", \"Category\": \"LAPTOPS\", \"Created_at\": \"2024-03-27 23:47:15\"}'\n",
            "Producing record: Purchase_simulator\tb'{\"purchase_ID\": \"a2c437b146\", \"Product_name\": \"Laptop_Brand3_32GB\", \"Pricing\": \"18999000\", \"Comision\": \"0.4\", \"Revenue\": \"7599600.0\", \"Payment_Mehtod\": \"PSE\", \"Status\": \"COMPLETED\", \"Order_Type\": \"ONLINE\", \"City\": \"Medell\\\\u00edn\", \"Location\": \"(6.198053256721469, -75.5733524126965)\", \"Latitud\": \"6.198053256721469\", \"Longitud\": \"-75.59141059178306\", \"Source\": \"Facebook\", \"Brand\": \"Brand3\", \"Category\": \"GAMING\", \"Created_at\": \"2024-03-27 23:47:16\"}'\n",
            "Producing record: Purchase_simulator\tb'{\"purchase_ID\": \"507012eb24\", \"Product_name\": \"Laptop_Brand1_4GB\", \"Pricing\": \"1350000\", \"Comision\": \"0.2\", \"Revenue\": \"270000.0\", \"Payment_Mehtod\": \"PSE\", \"Status\": \"FAILED_CHECKOUT\", \"Order_Type\": \"ONLINE\", \"City\": \"Bucaramanga\", \"Location\": \"(7.099917472863198, -73.10730617492302)\", \"Latitud\": \"7.099917472863198\", \"Longitud\": \"-73.10730617492302\", \"Source\": \"Facebook\", \"Brand\": \"Brand1\", \"Category\": \"LAPTOPS\", \"Created_at\": \"2024-03-27 23:47:17\"}'\n",
            "Producing record: Purchase_simulator\tb'{\"purchase_ID\": \"92ccb0910c\", \"Product_name\": \"Laptop_Brand3_4GB\", \"Pricing\": \"1850000\", \"Comision\": \"0.2\", \"Revenue\": \"370000.0\", \"Payment_Mehtod\": \"PSE\", \"Status\": \"INSUFICCIENT_FUNDS\", \"Order_Type\": \"ONLINE\", \"City\": \"Bucaramanga\", \"Location\": \"(7.099917472863198, -73.10730617492302)\", \"Latitud\": \"7.07243688331635\", \"Longitud\": \"-73.10730617492302\", \"Source\": \"Instagram\", \"Brand\": \"Brand3\", \"Category\": \"LAPTOPS\", \"Created_at\": \"2024-03-27 23:47:19\"}'\n",
            "Producing record: Purchase_simulator\tb'{\"purchase_ID\": \"ded5fe793f\", \"Product_name\": \"Laptop_Brand2_4GB\", \"Pricing\": \"1150000\", \"Comision\": \"0.15\", \"Revenue\": \"172500.0\", \"Payment_Mehtod\": \"PSE\", \"Status\": \"COMPLETED\", \"Order_Type\": \"ONLINE\", \"City\": \"Barranquilla\", \"Location\": \"(11.014167139030025, -74.82747678131524)\", \"Latitud\": \"11.014167139030025\", \"Longitud\": \"-74.83545204769058\", \"Source\": \"Facebook\", \"Brand\": \"Brand2\", \"Category\": \"LAPTOPS\", \"Created_at\": \"2024-03-27 23:47:20\"}'\n",
            "Producing record: Purchase_simulator\tb'{\"purchase_ID\": \"4828870488\", \"Product_name\": \"Console_PS5\", \"Pricing\": \"3560000\", \"Comision\": \"0.3\", \"Revenue\": \"1068000.0\", \"Payment_Mehtod\": \"Credit_card\", \"Status\": \"COMPLETED\", \"Order_Type\": \"ONLINE\", \"City\": \"Medell\\\\u00edn\", \"Location\": \"(6.163315879042265, -75.6052691935286)\", \"Latitud\": \"6.198053256721469\", \"Longitud\": \"-75.5733524126965\", \"Source\": \"Twitter\", \"Brand\": \"PS5\", \"Category\": \"VIDEO GAMES\", \"Created_at\": \"2024-03-27 23:47:22\"}'\n",
            "Producing record: Purchase_simulator\tb'{\"purchase_ID\": \"5c622fa362\", \"Product_name\": \"Console_PS5\", \"Pricing\": \"3560000\", \"Comision\": \"0.3\", \"Revenue\": \"1068000.0\", \"Payment_Mehtod\": \"Credit_card\", \"Status\": \"COMPLETED\", \"Order_Type\": \"ONLINE\", \"City\": \"Barranquilla\", \"Location\": \"(10.990580146449894, -74.78876005521157)\", \"Latitud\": \"11.014167139030025\", \"Longitud\": \"-74.78876005521157\", \"Source\": \"Facebook\", \"Brand\": \"PS5\", \"Category\": \"VIDEO GAMES\", \"Created_at\": \"2024-03-27 23:47:23\"}'\n",
            "Producing record: Purchase_simulator\tb'{\"purchase_ID\": \"c259f47997\", \"Product_name\": \"Console_Switch\", \"Pricing\": \"2249000\", \"Comision\": \"0.2\", \"Revenue\": \"449800.0\", \"Payment_Mehtod\": \"PSE\", \"Status\": \"FAILED_API_RESPONSE\", \"Order_Type\": \"ONLINE\", \"City\": \"Barranquilla\", \"Location\": \"(10.990580146449894, -74.78876005521157)\", \"Latitud\": \"11.004041676077495\", \"Longitud\": \"-74.83545204769058\", \"Source\": \"Twitter\", \"Brand\": \"Nintendo\", \"Category\": \"VIDEO GAMES\", \"Created_at\": \"2024-03-27 23:47:25\"}'\n",
            "Producing record: Purchase_simulator\tb'{\"purchase_ID\": \"728b7c40d5\", \"Product_name\": \"Laptop_Brand3_32GB\", \"Pricing\": \"18999000\", \"Comision\": \"0.4\", \"Revenue\": \"7599600.0\", \"Payment_Mehtod\": \"PSE\", \"Status\": \"COMPLETED\", \"Order_Type\": \"ONLINE\", \"City\": \"Bucaramanga\", \"Location\": \"(7.099917472863198, -73.10730617492302)\", \"Latitud\": \"7.099917472863198\", \"Longitud\": \"-73.10730617492302\", \"Source\": \"Influencer_2\", \"Brand\": \"Brand3\", \"Category\": \"GAMING\", \"Created_at\": \"2024-03-27 23:47:26\"}'\n",
            "Producing record: Purchase_simulator\tb'{\"purchase_ID\": \"e1fe7b14e4\", \"Product_name\": \"Laptop_Brand1_32GB\", \"Pricing\": \"4800000\", \"Comision\": \"0.35\", \"Revenue\": \"1680000.0\", \"Payment_Mehtod\": \"Credit_card\", \"Status\": \"USER_ERROR\", \"Order_Type\": \"ONLINE\", \"City\": \"Medell\\\\u00edn\", \"Location\": \"(6.17784573272914, -75.59141059178306)\", \"Latitud\": \"6.198053256721469\", \"Longitud\": \"-75.6052691935286\", \"Source\": \"Influencer_1\", \"Brand\": \"Brand1\", \"Category\": \"GAMING\", \"Created_at\": \"2024-03-27 23:47:28\"}'\n",
            "Producing record: Purchase_simulator\tb'{\"purchase_ID\": \"598eda7697\", \"Product_name\": \"Laptop_Brand3_16GB\", \"Pricing\": \"4659000\", \"Comision\": \"0.3\", \"Revenue\": \"1397700.0\", \"Payment_Mehtod\": \"Credit_card\", \"Status\": \"COMPLETED\", \"Order_Type\": \"ONLINE\", \"City\": \"Cali\", \"Location\": \"(3.4164091379805432, -76.54751692551635)\", \"Latitud\": \"3.4164091379805432\", \"Longitud\": \"-76.54751692551635\", \"Source\": \"Influencer_4\", \"Brand\": \"Brand3\", \"Category\": \"LAPTOPS\", \"Created_at\": \"2024-03-27 23:47:29\"}'\n",
            "Producing record: Purchase_simulator\tb'{\"purchase_ID\": \"43f6ff46dc\", \"Product_name\": \"Laptop_Brand1_16GB\", \"Pricing\": \"3500000\", \"Comision\": \"0.3\", \"Revenue\": \"1050000.0\", \"Payment_Mehtod\": \"PSE\", \"Status\": \"COMPLETED\", \"Order_Type\": \"ONLINE\", \"City\": \"Barranquilla\", \"Location\": \"(10.990580146449894, -74.78876005521157)\", \"Latitud\": \"10.990580146449894\", \"Longitud\": \"-74.82747678131524\", \"Source\": \"Influencer_4\", \"Brand\": \"Brand1\", \"Category\": \"LAPTOPS\", \"Created_at\": \"2024-03-27 23:47:30\"}'\n",
            "Producing record: Purchase_simulator\tb'{\"purchase_ID\": \"8f4244dd8f\", \"Product_name\": \"Laptop_Brand1_32GB\", \"Pricing\": \"4800000\", \"Comision\": \"0.35\", \"Revenue\": \"1680000.0\", \"Payment_Mehtod\": \"PSE\", \"Status\": \"INSUFICCIENT_FUNDS\", \"Order_Type\": \"ONLINE\", \"City\": \"Barranquilla\", \"Location\": \"(10.990580146449894, -74.78876005521157)\", \"Latitud\": \"11.004041676077495\", \"Longitud\": \"-74.82747678131524\", \"Source\": \"Influencer_3\", \"Brand\": \"Brand1\", \"Category\": \"GAMING\", \"Created_at\": \"2024-03-27 23:47:31\"}'\n",
            "Producing record: Purchase_simulator\tb'{\"purchase_ID\": \"b3d08f6f2d\", \"Product_name\": \"Laptop_Brand2_4GB\", \"Pricing\": \"1150000\", \"Comision\": \"0.15\", \"Revenue\": \"172500.0\", \"Payment_Mehtod\": \"PSE\", \"Status\": \"INSUFICCIENT_FUNDS\", \"Order_Type\": \"ONLINE\", \"City\": \"Bucaramanga\", \"Location\": \"(7.07243688331635, -73.10525936227518)\", \"Latitud\": \"7.099917472863198\", \"Longitud\": \"-73.10730617492302\", \"Source\": \"Influencer_4\", \"Brand\": \"Brand2\", \"Category\": \"LAPTOPS\", \"Created_at\": \"2024-03-27 23:47:32\"}'\n",
            "Producing record: Purchase_simulator\tb'{\"purchase_ID\": \"ce45bb20a5\", \"Product_name\": \"Console_PS5\", \"Pricing\": \"3560000\", \"Comision\": \"0.3\", \"Revenue\": \"1068000.0\", \"Payment_Mehtod\": \"PSE\", \"Status\": \"COMPLETED\", \"Order_Type\": \"ONLINE\", \"City\": \"Barranquilla\", \"Location\": \"(10.990580146449894, -74.78876005521157)\", \"Latitud\": \"11.014167139030025\", \"Longitud\": \"-74.83545204769058\", \"Source\": \"Twitter\", \"Brand\": \"PS5\", \"Category\": \"VIDEO GAMES\", \"Created_at\": \"2024-03-27 23:47:34\"}'\n",
            "Producing record: Purchase_simulator\tb'{\"purchase_ID\": \"4a2d85a02f\", \"Product_name\": \"Laptop_Brand2_4GB\", \"Pricing\": \"1150000\", \"Comision\": \"0.15\", \"Revenue\": \"172500.0\", \"Payment_Mehtod\": \"Credit_card\", \"Status\": \"COMPLETED\", \"Order_Type\": \"ONLINE\", \"City\": \"Cali\", \"Location\": \"(3.4164091379805432, -76.54751692551635)\", \"Latitud\": \"3.4164091379805432\", \"Longitud\": \"-76.54041613631288\", \"Source\": \"Twitter\", \"Brand\": \"Brand2\", \"Category\": \"LAPTOPS\", \"Created_at\": \"2024-03-27 23:47:35\"}'\n",
            "Producing record: Purchase_simulator\tb'{\"purchase_ID\": \"dfb52b3d4e\", \"Product_name\": \"Laptop_Brand1_16GB\", \"Pricing\": \"3500000\", \"Comision\": \"0.3\", \"Revenue\": \"1050000.0\", \"Payment_Mehtod\": \"PSE\", \"Status\": \"COMPLETED\", \"Order_Type\": \"ONLINE\", \"City\": \"Bogot\\\\u00e1\", \"Location\": \"(4.651600960108946, -74.12628850377475)\", \"Latitud\": \"4.661984763443271\", \"Longitud\": \"-74.12628850377475\", \"Source\": \"Influencer_2\", \"Brand\": \"Brand1\", \"Category\": \"LAPTOPS\", \"Created_at\": \"2024-03-27 23:47:36\"}'\n",
            "Producing record: Purchase_simulator\tb'{\"purchase_ID\": \"2b68559be3\", \"Product_name\": \"Laptop_Brand3_32GB\", \"Pricing\": \"18999000\", \"Comision\": \"0.4\", \"Revenue\": \"7599600.0\", \"Payment_Mehtod\": \"Credit_card\", \"Status\": \"USER_ERROR\", \"Order_Type\": \"ONLINE\", \"City\": \"Bucaramanga\", \"Location\": \"(7.07243688331635, -73.10525936227518)\", \"Latitud\": \"7.07243688331635\", \"Longitud\": \"-73.10525936227518\", \"Source\": \"Twitter\", \"Brand\": \"Brand3\", \"Category\": \"GAMING\", \"Created_at\": \"2024-03-27 23:47:37\"}'\n",
            "Producing record: Purchase_simulator\tb'{\"purchase_ID\": \"ed0bb76f6b\", \"Product_name\": \"Laptop_Brand1_4GB\", \"Pricing\": \"1350000\", \"Comision\": \"0.2\", \"Revenue\": \"270000.0\", \"Payment_Mehtod\": \"PSE\", \"Status\": \"USER_ERROR\", \"Order_Type\": \"ONLINE\", \"City\": \"Bogot\\\\u00e1\", \"Location\": \"(4.647569693587232, -74.10186525959672)\", \"Latitud\": \"4.647569693587232\", \"Longitud\": \"-74.13466548843223\", \"Source\": \"Influencer_2\", \"Brand\": \"Brand1\", \"Category\": \"LAPTOPS\", \"Created_at\": \"2024-03-27 23:47:38\"}'\n",
            "Producing record: Purchase_simulator\tb'{\"purchase_ID\": \"24e07c95c5\", \"Product_name\": \"Laptop_Brand3_32GB\", \"Pricing\": \"18999000\", \"Comision\": \"0.4\", \"Revenue\": \"7599600.0\", \"Payment_Mehtod\": \"Credit_card\", \"Status\": \"COMPLETED\", \"Order_Type\": \"ONLINE\", \"City\": \"Barranquilla\", \"Location\": \"(11.004041676077495, -74.83545204769058)\", \"Latitud\": \"10.990580146449894\", \"Longitud\": \"-74.82747678131524\", \"Source\": \"Influencer_3\", \"Brand\": \"Brand3\", \"Category\": \"GAMING\", \"Created_at\": \"2024-03-27 23:47:40\"}'\n",
            "Producing record: Purchase_simulator\tb'{\"purchase_ID\": \"e3463cdf68\", \"Product_name\": \"Laptop_Brand2_8GB\", \"Pricing\": \"1850000\", \"Comision\": \"0.18\", \"Revenue\": \"333000.0\", \"Payment_Mehtod\": \"Credit_card\", \"Status\": \"COMPLETED\", \"Order_Type\": \"ONLINE\", \"City\": \"Barranquilla\", \"Location\": \"(10.990580146449894, -74.78876005521157)\", \"Latitud\": \"10.990580146449894\", \"Longitud\": \"-74.82747678131524\", \"Source\": \"Influencer_3\", \"Brand\": \"Brand2\", \"Category\": \"LAPTOPS\", \"Created_at\": \"2024-03-27 23:47:41\"}'\n",
            "Producing record: Purchase_simulator\tb'{\"purchase_ID\": \"32e7720d2e\", \"Product_name\": \"Laptop_Brand3_4GB\", \"Pricing\": \"1850000\", \"Comision\": \"0.2\", \"Revenue\": \"370000.0\", \"Payment_Mehtod\": \"Credit_card\", \"Status\": \"FAILED_API_RESPONSE\", \"Order_Type\": \"ONLINE\", \"City\": \"Bogot\\\\u00e1\", \"Location\": \"(4.661984763443271, -74.13466548843223)\", \"Latitud\": \"4.661984763443271\", \"Longitud\": \"-74.12628850377475\", \"Source\": \"Twitter\", \"Brand\": \"Brand3\", \"Category\": \"LAPTOPS\", \"Created_at\": \"2024-03-27 23:47:42\"}'\n",
            "Producing record: Purchase_simulator\tb'{\"purchase_ID\": \"a20f8cde83\", \"Product_name\": \"Laptop_Brand1_32GB\", \"Pricing\": \"4800000\", \"Comision\": \"0.35\", \"Revenue\": \"1680000.0\", \"Payment_Mehtod\": \"Credit_card\", \"Status\": \"FAILED_API_RESPONSE\", \"Order_Type\": \"ONLINE\", \"City\": \"Medell\\\\u00edn\", \"Location\": \"(6.198053256721469, -75.5733524126965)\", \"Latitud\": \"6.198053256721469\", \"Longitud\": \"-75.6052691935286\", \"Source\": \"Instagram\", \"Brand\": \"Brand1\", \"Category\": \"GAMING\", \"Created_at\": \"2024-03-27 23:47:44\"}'\n",
            "Producing record: Purchase_simulator\tb'{\"purchase_ID\": \"4609020083\", \"Product_name\": \"Laptop_Brand3_16GB\", \"Pricing\": \"4659000\", \"Comision\": \"0.3\", \"Revenue\": \"1397700.0\", \"Payment_Mehtod\": \"PSE\", \"Status\": \"COMPLETED\", \"Order_Type\": \"ONLINE\", \"City\": \"Bogot\\\\u00e1\", \"Location\": \"(4.647569693587232, -74.10186525959672)\", \"Latitud\": \"4.661984763443271\", \"Longitud\": \"-74.12628850377475\", \"Source\": \"Influencer_1\", \"Brand\": \"Brand3\", \"Category\": \"LAPTOPS\", \"Created_at\": \"2024-03-27 23:47:45\"}'\n",
            "Producing record: Purchase_simulator\tb'{\"purchase_ID\": \"fe14ba7afa\", \"Product_name\": \"Laptop_Brand1_8GB\", \"Pricing\": \"2550000\", \"Comision\": \"0.25\", \"Revenue\": \"637500.0\", \"Payment_Mehtod\": \"Credit_card\", \"Status\": \"COMPLETED\", \"Order_Type\": \"STORE\", \"City\": \"Bucaramanga\", \"Location\": \"(7.07243688331635, -73.10525936227518)\", \"Latitud\": \"7.07243688331635\", \"Longitud\": \"-73.10525936227518\", \"Source\": \"Organic\", \"Brand\": \"Brand1\", \"Category\": \"LAPTOPS\", \"Created_at\": \"2024-03-27 23:47:46\"}'\n",
            "Producing record: Purchase_simulator\tb'{\"purchase_ID\": \"b09238bbb3\", \"Product_name\": \"Console_Xbox\", \"Pricing\": \"1599000\", \"Comision\": \"0.15\", \"Revenue\": \"239850.0\", \"Payment_Mehtod\": \"PSE\", \"Status\": \"COMPLETED\", \"Order_Type\": \"ONLINE\", \"City\": \"Cali\", \"Location\": \"(3.4287786094866717, -76.53749228193497)\", \"Latitud\": \"3.4287786094866717\", \"Longitud\": \"-76.54751692551635\", \"Source\": \"Influencer_1\", \"Brand\": \"X_Box\", \"Category\": \"VIDEO GAMES\", \"Created_at\": \"2024-03-27 23:47:47\"}'\n",
            "Producing record: Purchase_simulator\tb'{\"purchase_ID\": \"e7d0123c79\", \"Product_name\": \"Laptop_Brand2_8GB\", \"Pricing\": \"1850000\", \"Comision\": \"0.18\", \"Revenue\": \"333000.0\", \"Payment_Mehtod\": \"Nequi\", \"Status\": \"COMPLETED\", \"Order_Type\": \"STORE\", \"City\": \"Bogot\\\\u00e1\", \"Location\": \"(4.651600960108946, -74.12628850377475)\", \"Latitud\": \"4.661984763443271\", \"Longitud\": \"-74.10186525959672\", \"Source\": \"Organic\", \"Brand\": \"Brand2\", \"Category\": \"LAPTOPS\", \"Created_at\": \"2024-03-27 23:47:49\"}'\n",
            "Producing record: Purchase_simulator\tb'{\"purchase_ID\": \"e9c60a4175\", \"Product_name\": \"Laptop_Brand2_4GB\", \"Pricing\": \"1150000\", \"Comision\": \"0.15\", \"Revenue\": \"172500.0\", \"Payment_Mehtod\": \"PSE\", \"Status\": \"COMPLETED\", \"Order_Type\": \"ONLINE\", \"City\": \"Bogot\\\\u00e1\", \"Location\": \"(4.661984763443271, -74.13466548843223)\", \"Latitud\": \"4.661984763443271\", \"Longitud\": \"-74.13466548843223\", \"Source\": \"Instagram\", \"Brand\": \"Brand2\", \"Category\": \"LAPTOPS\", \"Created_at\": \"2024-03-27 23:47:50\"}'\n",
            "Producing record: Purchase_simulator\tb'{\"purchase_ID\": \"9cef914724\", \"Product_name\": \"Laptop_Brand3_8GB\", \"Pricing\": \"3199000\", \"Comision\": \"0.28\", \"Revenue\": \"895720.0\", \"Payment_Mehtod\": \"PSE\", \"Status\": \"INSUFICCIENT_FUNDS\", \"Order_Type\": \"ONLINE\", \"City\": \"Cali\", \"Location\": \"(3.4164091379805432, -76.54751692551635)\", \"Latitud\": \"3.4287786094866717\", \"Longitud\": \"-76.54041613631288\", \"Source\": \"Twitter\", \"Brand\": \"Brand3\", \"Category\": \"LAPTOPS\", \"Created_at\": \"2024-03-27 23:47:51\"}'\n"
          ]
        },
        {
          "output_type": "error",
          "ename": "KeyboardInterrupt",
          "evalue": "",
          "traceback": [
            "\u001b[0;31m---------------------------------------------------------------------------\u001b[0m",
            "\u001b[0;31mKeyboardInterrupt\u001b[0m                         Traceback (most recent call last)",
            "\u001b[0;32m<ipython-input-17-d12898f35a59>\u001b[0m in \u001b[0;36m<cell line: 8>\u001b[0;34m()\u001b[0m\n\u001b[1;32m     47\u001b[0m     \u001b[0mx\u001b[0m \u001b[0;34m+=\u001b[0m \u001b[0;36m1\u001b[0m\u001b[0;34m\u001b[0m\u001b[0;34m\u001b[0m\u001b[0m\n\u001b[1;32m     48\u001b[0m \u001b[0;34m\u001b[0m\u001b[0m\n\u001b[0;32m---> 49\u001b[0;31m     \u001b[0mtime\u001b[0m\u001b[0;34m.\u001b[0m\u001b[0msleep\u001b[0m\u001b[0;34m(\u001b[0m\u001b[0mrandom\u001b[0m\u001b[0;34m.\u001b[0m\u001b[0mchoice\u001b[0m\u001b[0;34m(\u001b[0m\u001b[0;34m[\u001b[0m\u001b[0;36m1\u001b[0m\u001b[0;34m,\u001b[0m\u001b[0;36m1.5\u001b[0m\u001b[0;34m]\u001b[0m\u001b[0;34m)\u001b[0m\u001b[0;34m)\u001b[0m\u001b[0;34m\u001b[0m\u001b[0;34m\u001b[0m\u001b[0m\n\u001b[0m\u001b[1;32m     50\u001b[0m \u001b[0;34m\u001b[0m\u001b[0m\n\u001b[1;32m     51\u001b[0m \u001b[0;34m\u001b[0m\u001b[0m\n",
            "\u001b[0;31mKeyboardInterrupt\u001b[0m: "
          ]
        }
      ],
      "source": [
        "delivered_records = 0\n",
        "topic = 'topic_druid_rt'\n",
        "\n",
        "x = 1\n",
        "\n",
        "data_purchase = []\n",
        "\n",
        "while(x > 0):\n",
        "\n",
        "    date = pd.to_datetime('today').strftime(\"%Y-%m-%d %H:%M:%S\")\n",
        "\n",
        "    product = df['PRODUCT_NAME '][random.randint(0,14)]\n",
        "    pricing =  df[df['PRODUCT_NAME ']==product]['PRICING'].values[0]\n",
        "    comision =  df[df['PRODUCT_NAME ']==product]['COMISION'].values[0]\n",
        "    brand = df[df['PRODUCT_NAME ']==product]['BRAND'].values[0]\n",
        "    category = df[df['PRODUCT_NAME ']==product]['CATEGORY'].values[0]\n",
        "    source_temp = random.choice(source)\n",
        "    pay = get_pay_method(source_temp,status_purchase,payment_online,payment_store)\n",
        "    city = random.choice(cities)\n",
        "\n",
        "    purchase = {'purchase_ID': str(hashlib.sha256(f\"{x} {product} {pricing} {comision} {date} {source_temp} {pay[1]}\".encode('utf-8')).hexdigest())[:10],\n",
        "            'Product_name' : product,\n",
        "            'Pricing':str(pricing),\n",
        "            'Comision':str(comision),\n",
        "            'Revenue' : str(round(pricing*comision,2)),\n",
        "            'Payment_Mehtod':pay[0],\n",
        "            'Status' : pay[1],\n",
        "            'Order_Type' : pay[2],\n",
        "            'City':city,\n",
        "            'Location': str(get_coords(city)), #[get_coords(city)],\n",
        "            'Latitud' : str(get_coords(city)[0]) ,\n",
        "            'Longitud' :  str(get_coords(city)[1]),\n",
        "            'Source':source_temp,\n",
        "            'Brand' : brand,\n",
        "            'Category': category,\n",
        "            'Created_at': date}\n",
        "\n",
        "\n",
        "    #data_purchase.append(pd.DataFrame(purchase))\n",
        "\n",
        "    record_key = \"Purchase_simulator\"\n",
        "    record_value =  json.dumps(purchase).encode('utf-8')\n",
        "    print(\"Producing record: {}\\t{}\".format(record_key, record_value))\n",
        "    producer.produce(topic, key=record_key, value=record_value)\n",
        "    producer.poll(0)\n",
        "    delivered_records += 1\n",
        "    x += 1\n",
        "\n",
        "    time.sleep(random.choice([1,1.5]))\n",
        "\n",
        "\n",
        "\n",
        "\n",
        "producer.flush()\n",
        "\n",
        "print('\\n')\n",
        "print('\\n')\n",
        "print(\"{} messages were produced to topic {}!\".format(delivered_records, topic))\n",
        "print('\\n')\n",
        "print('\\n')"
      ]
    },
    {
      "cell_type": "code",
      "execution_count": 16,
      "id": "17433a33",
      "metadata": {
        "colab": {
          "base_uri": "https://localhost:8080/"
        },
        "id": "17433a33",
        "outputId": "36981181-ab58-4312-ac9e-98bd310cae3a"
      },
      "outputs": [
        {
          "output_type": "stream",
          "name": "stdout",
          "text": [
            "\n",
            "\n",
            "\n",
            "\n",
            "88 messages were produced to topic topic_druid_grafana!\n",
            "\n",
            "\n",
            "\n",
            "\n"
          ]
        }
      ],
      "source": [
        "print('\\n')\n",
        "print('\\n')\n",
        "print(\"{} messages were produced to topic {}!\".format(delivered_records, topic))\n",
        "print('\\n')\n",
        "print('\\n')"
      ]
    }
  ],
  "metadata": {
    "kernelspec": {
      "display_name": "Python 3 (ipykernel)",
      "language": "python",
      "name": "python3"
    },
    "language_info": {
      "codemirror_mode": {
        "name": "ipython",
        "version": 3
      },
      "file_extension": ".py",
      "mimetype": "text/x-python",
      "name": "python",
      "nbconvert_exporter": "python",
      "pygments_lexer": "ipython3",
      "version": "3.8.10"
    },
    "vscode": {
      "interpreter": {
        "hash": "ad2bdc8ecc057115af97d19610ffacc2b4e99fae6737bb82f5d7fb13d2f2c186"
      }
    },
    "colab": {
      "provenance": [],
      "include_colab_link": true
    }
  },
  "nbformat": 4,
  "nbformat_minor": 5
}